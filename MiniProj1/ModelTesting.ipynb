{
 "cells": [
  {
   "cell_type": "code",
   "execution_count": 1,
   "metadata": {
    "collapsed": true
   },
   "outputs": [],
   "source": [
    "import numpy as np\n",
    "import matplotlib.pyplot as plt\n",
    "import pandas as pd\n",
    "from sklearn.linear_model import *\n",
    "from sklearn.model_selection import *\n",
    "from sklearn.svm import *\n",
    "from sklearn.feature_selection import *\n",
    "from sklearn.feature_extraction import *\n",
    "from sklearn.naive_bayes import *\n",
    "import xgboost\n",
    "from scipy.sparse import *\n",
    "from sklearn.decomposition import *\n",
    "from sklearn.neural_network import *\n",
    "\n",
    "\n",
    "%matplotlib inline"
   ]
  },
  {
   "cell_type": "code",
   "execution_count": 2,
   "metadata": {
    "collapsed": true
   },
   "outputs": [],
   "source": [
    "data = np.loadtxt('training_data.txt', skiprows=1)\n",
    "y = data[:,0]\n",
    "X = data[:,1:]"
   ]
  },
  {
   "cell_type": "code",
   "execution_count": 3,
   "metadata": {
    "collapsed": true
   },
   "outputs": [],
   "source": [
    "Xtest = np.loadtxt('test_data.txt', skiprows=1)"
   ]
  },
  {
   "cell_type": "code",
   "execution_count": 4,
   "metadata": {
    "collapsed": true
   },
   "outputs": [],
   "source": [
    "Xvecsum = np.sum(X, axis=1)\n",
    "\n",
    "Tfid = text.TfidfTransformer(norm='l2')\n",
    "Tfid.fit(X, y)\n",
    "TfidXsparse = Tfid.transform(X)\n",
    "TfidXtest = Tfid.transform(Xtest)\n",
    "TfidX = np.asarray(csr_matrix.todense(TfidXsparse))\n",
    "TfidXtest = np.asarray(csr_matrix.todense(TfidXtest))\n",
    "temp_arr = []\n",
    "for i in range(0, len(TfidX)):\n",
    "    temp_arr.append(np.append(TfidX[i], Xvecsum[i]))\n",
    "TfidX_sum = np.array(temp_arr)"
   ]
  },
  {
   "cell_type": "code",
   "execution_count": 5,
   "metadata": {
    "collapsed": true
   },
   "outputs": [],
   "source": [
    "svd = TruncatedSVD(n_components=100, algorithm='arpack')\n",
    "sv_tfidX = svd.fit_transform(TfidX)\n",
    "sv_tfidXtest = svd.transform(TfidXtest)"
   ]
  },
  {
   "cell_type": "code",
   "execution_count": 6,
   "metadata": {},
   "outputs": [
    {
     "data": {
      "text/plain": [
       "(10000, 100)"
      ]
     },
     "execution_count": 6,
     "metadata": {},
     "output_type": "execute_result"
    }
   ],
   "source": [
    "sv_tfidXtest.shape"
   ]
  },
  {
   "cell_type": "code",
   "execution_count": 7,
   "metadata": {
    "collapsed": true
   },
   "outputs": [],
   "source": [
    "binX = []\n",
    "for i in range(0, len(X)):\n",
    "    binX.append(X[i] > 0)\n",
    "binX = np.array(binX)"
   ]
  },
  {
   "cell_type": "code",
   "execution_count": 8,
   "metadata": {
    "collapsed": true
   },
   "outputs": [],
   "source": [
    "vocab_count = np.sum(X, axis=0)"
   ]
  },
  {
   "cell_type": "code",
   "execution_count": 9,
   "metadata": {
    "collapsed": true
   },
   "outputs": [],
   "source": [
    "Xvecsum = np.sum(X, axis=1)\n",
    "Xcomb = []\n",
    "\n",
    "for i in range(0, len(X)):\n",
    "    temp_arr = np.concatenate((TfidX[i], sv_tfidX[i]))\n",
    "    temp_arr = np.append(temp_arr, Xvecsum[i])\n",
    "    Xcomb.append(temp_arr)\n",
    "Xcomb = np.array(Xcomb)\n"
   ]
  },
  {
   "cell_type": "code",
   "execution_count": 10,
   "metadata": {
    "collapsed": true
   },
   "outputs": [],
   "source": [
    "Xvecsumtest = np.sum(Xtest, axis=1)\n",
    "Xcombtest = []\n",
    "\n",
    "for i in range(0, len(Xtest)):\n",
    "    temp_arr = np.concatenate((TfidXtest[i], sv_tfidXtest[i]))\n",
    "    temp_arr = np.append(temp_arr, Xvecsumtest[i])\n",
    "    Xcombtest.append(temp_arr)\n",
    "Xcombtest = np.array(Xcombtest)"
   ]
  },
  {
   "cell_type": "code",
   "execution_count": 11,
   "metadata": {},
   "outputs": [
    {
     "data": {
      "text/plain": [
       "(20000, 1101)"
      ]
     },
     "execution_count": 11,
     "metadata": {},
     "output_type": "execute_result"
    }
   ],
   "source": [
    "Xcomb.shape"
   ]
  },
  {
   "cell_type": "markdown",
   "metadata": {},
   "source": [
    "### Making figs"
   ]
  },
  {
   "cell_type": "code",
   "execution_count": 45,
   "metadata": {},
   "outputs": [],
   "source": [
    "rbf_svm = SVC(C=1.5, gamma=0.015)    \n",
    "svd_clf = SVC(C=50, gamma=0.2)\n",
    "nn = KerasClassifier(build_fn=create_baseline(Xcomb.shape[1]), epochs=10, batch_size=20, verbose=0)\n",
    "xg_lin = xgboost.XGBClassifier(booster='gblinear', reg_lambda=0, eval_metric='error')"
   ]
  },
  {
   "cell_type": "code",
   "execution_count": 41,
   "metadata": {
    "collapsed": true
   },
   "outputs": [],
   "source": [
    "kfold = StratifiedKFold(n_splits=4, shuffle=True)\n",
    "rbf_svm_cv = cross_val_score(rbf_svm, X, y, cv=kfold, n_jobs=-1)"
   ]
  },
  {
   "cell_type": "code",
   "execution_count": 42,
   "metadata": {
    "collapsed": true
   },
   "outputs": [],
   "source": [
    "svd_clf_cv = cross_val_score(svd_clf, sv_tfidX, y, cv=kfold, n_jobs=-1)"
   ]
  },
  {
   "cell_type": "code",
   "execution_count": 47,
   "metadata": {
    "collapsed": true
   },
   "outputs": [],
   "source": [
    "estimator = KerasClassifier(build_fn=create_baseline(Xcomb.shape[1]), epochs=10, batch_size=20, verbose=0)\n",
    "kfold = StratifiedKFold(n_splits=4, shuffle=True)\n",
    "results = cross_val_score(estimator, Xcomb, y, cv=kfold)"
   ]
  },
  {
   "cell_type": "code",
   "execution_count": 48,
   "metadata": {
    "collapsed": true
   },
   "outputs": [],
   "source": [
    "nn_cv = results"
   ]
  },
  {
   "cell_type": "code",
   "execution_count": 49,
   "metadata": {
    "collapsed": true
   },
   "outputs": [],
   "source": [
    "xg_lin_cv = cross_val_score(xg_lin, TfidX, y, cv=kfold, n_jobs=-1)"
   ]
  },
  {
   "cell_type": "code",
   "execution_count": 58,
   "metadata": {},
   "outputs": [
    {
     "data": {
      "image/png": "[encoded data removed]",
      "text/plain": [
       "<matplotlib.figure.Figure at 0x1a6a444b70>"
      ]
     },
     "metadata": {},
     "output_type": "display_data"
    }
   ],
   "source": [
    "cv_res = [rbf_svm_cv, svd_clf_cv, nn_cv, xg_lin_cv]\n",
    "cv_res = np.mean(cv_res, axis=1)\n",
    "plt.bar(np.arange(0, 4), cv_res)\n",
    "plt.ylim(0.82, 0.87)\n",
    "plt.title('4-fold CV accuracy')\n",
    "plt.xticks(np.arange(0, 4), ['SVC', 'SVC-SVD', 'NN-Tfidf+SVD', 'XGlin-Tfidf'])\n",
    "plt.savefig('Cross-val accuracy', dpi=399)"
   ]
  },
  {
   "cell_type": "code",
   "execution_count": 60,
   "metadata": {
    "collapsed": true
   },
   "outputs": [],
   "source": [
    "def gen_TfidX(X):\n",
    "    Tfid = text.TfidfTransformer(norm='l2')\n",
    "    Tfid.fit(X)\n",
    "    TfidXsparse = Tfid.transform(X)\n",
    "    TfidX = np.asarray(csr_matrix.todense(TfidXsparse))\n",
    "    return TfidX\n",
    "\n",
    "def gen_svX(X):\n",
    "    TfidX = gen_TfidX(X)\n",
    "    svd = TruncatedSVD(n_components=100, algorithm='arpack')\n",
    "    sv_tfidX = svd.fit_transform(TfidX)\n",
    "    return sv_tfidX\n",
    "\n",
    "def gen_combX(X, TfidX, svX):\n",
    "    Xvecsum = np.sum(X, axis=1)\n",
    "    Xcomb = []\n",
    "\n",
    "    for i in range(0, len(X)):\n",
    "        temp_arr = np.concatenate((TfidX[i], svX[i]))\n",
    "        temp_arr = np.append(temp_arr, Xvecsum[i])\n",
    "        Xcomb.append(temp_arr)\n",
    "    Xcomb = np.array(Xcomb)\n",
    "    return Xcomb"
   ]
  },
  {
   "cell_type": "code",
   "execution_count": 62,
   "metadata": {},
   "outputs": [],
   "source": [
    "X1 = X\n",
    "y1 = y\n",
    "X2 = Xtest\n",
    "\n",
    "TfidX1 = gen_TfidX(X1)\n",
    "svX1 = gen_svX(X1)\n",
    "combX1 = gen_combX(X1, TfidX1, svX1)\n",
    "TfidX2 = gen_TfidX(X2)\n",
    "svX2 = gen_svX(X2)\n",
    "combX2 = gen_combX(X2, TfidX2, svX2)\n",
    "\n",
    "rbf_svm = SVC(C=1.5, gamma=0.015)    \n",
    "svd_clf = SVC(C=50, gamma=0.2)\n",
    "nn = create_baseline(combX1.shape[1])()    \n",
    "xg_lin = xgboost.XGBClassifier(booster='gblinear', reg_lambda=0, eval_metric='error')\n",
    "\n",
    "rbf_svm.fit(X1, y1)\n",
    "svd_clf.fit(svX1, y1)\n",
    "nn.fit(combX1, y1, epochs=30, batch_size=20, verbose=False)\n",
    "xg_lin.fit(TfidX1, y1)\n",
    "\n",
    "rbf_svm_pred = rbf_svm.predict(X2)\n",
    "svd_clf_pred = svd_clf.predict(svX2)\n",
    "nn_pred_sig = nn.predict(combX2)\n",
    "nn_pred = np.round(nn_pred_sig)[:,0]\n",
    "xg_lin_pred = xg_lin.predict(TfidX2)\n",
    "\n",
    "preds = [rbf_svm_pred, svd_clf_pred, nn_pred, xg_lin_pred]\n",
    "preds = np.array(preds)"
   ]
  },
  {
   "cell_type": "code",
   "execution_count": 66,
   "metadata": {},
   "outputs": [],
   "source": [
    "corrmat = []\n",
    "for i in range(0,4):\n",
    "    tmp = []\n",
    "    for j in range(0,4):\n",
    "        tmp.append(np.mean(preds[i]==preds[j]))\n",
    "    corrmat.append(np.array(tmp))"
   ]
  },
  {
   "cell_type": "code",
   "execution_count": 78,
   "metadata": {},
   "outputs": [
    {
     "data": {
      "image/png": "[encoded data removed]",
      "text/plain": [
       "<matplotlib.figure.Figure at 0x1a838c6278>"
      ]
     },
     "metadata": {},
     "output_type": "display_data"
    }
   ],
   "source": [
    "plt.imshow(corrmat, vmin=0.8)\n",
    "plt.colorbar()\n",
    "plt.xticks(range(0,4), ['SVC', 'SVC-SVD', 'NN-Tfidf+SVD', 'XGlin-Tfidf'], rotation=45)\n",
    "plt.yticks(range(0,4), ['SVC', 'SVC-SVD', 'NN-Tfidf+SVD', 'XGlin-Tfidf'])\n",
    "plt.title('Agreement between models in ensemble')\n",
    "plt.tight_layout()\n",
    "plt.savefig('ModelAgreement.png', dpi=399)"
   ]
  },
  {
   "cell_type": "markdown",
   "metadata": {},
   "source": [
    "### Regularized logistic regression"
   ]
  },
  {
   "cell_type": "code",
   "execution_count": 13,
   "metadata": {
    "collapsed": true
   },
   "outputs": [],
   "source": [
    "def fit_lr(X, y):\n",
    "    lr_clf = LogisticRegressionCV()\n",
    "    lr_clf.fit(X, y)\n",
    "    best_C = lr_clf.C_[0]\n",
    "\n",
    "    lr_clf = LogisticRegression(C=best_C)\n",
    "    kfold = StratifiedKFold(n_splits=5, shuffle=True)\n",
    "    scores = cross_val_score(lr_clf, X, y, cv=kfold)\n",
    "    return np.mean(scores)"
   ]
  },
  {
   "cell_type": "code",
   "execution_count": 14,
   "metadata": {},
   "outputs": [
    {
     "data": {
      "text/plain": [
       "0.85040025508439088"
      ]
     },
     "execution_count": 14,
     "metadata": {},
     "output_type": "execute_result"
    }
   ],
   "source": [
    "fit_lr(Xcomb, y)"
   ]
  },
  {
   "cell_type": "markdown",
   "metadata": {},
   "source": [
    "### Non-linear-SVM"
   ]
  },
  {
   "cell_type": "code",
   "execution_count": 15,
   "metadata": {
    "collapsed": true
   },
   "outputs": [],
   "source": [
    "gammas = np.array([0.1, 1, 10])/len(X[0])"
   ]
  },
  {
   "cell_type": "code",
   "execution_count": 16,
   "metadata": {},
   "outputs": [
    {
     "name": "stdout",
     "output_type": "stream",
     "text": [
      "gamma of 0.0001 gives error of 0.7327497146399886\n",
      "gamma of 0.001 gives error of 0.8306000966480038\n",
      "gamma of 0.01 gives error of 0.8483996969279879\n"
     ]
    }
   ],
   "source": [
    "for gamma in gammas:\n",
    "    clf = SVC(gamma=gamma)\n",
    "    kfold = StratifiedKFold(n_splits=4, shuffle=True)\n",
    "    results = cross_val_score(clf, X, y, cv=kfold, n_jobs=-1)\n",
    "    print('gamma of {} gives error of {}'.format(gamma, results.mean()))"
   ]
  },
  {
   "cell_type": "code",
   "execution_count": 17,
   "metadata": {},
   "outputs": [
    {
     "name": "stdout",
     "output_type": "stream",
     "text": [
      "gamma of 0.02 gives error of 0.8501500569280023\n",
      "gamma of 0.05 gives error of 0.8145998063379923\n"
     ]
    },
    {
     "ename": "KeyboardInterrupt",
     "evalue": "",
     "output_type": "error",
     "traceback": [
      "\u001b[0;31m---------------------------------------------------------------------------\u001b[0m",
      "\u001b[0;31mKeyboardInterrupt\u001b[0m                         Traceback (most recent call last)",
      "\u001b[0;32m<ipython-input-17-9f79b1ca30a4>\u001b[0m in \u001b[0;36m<module>\u001b[0;34m()\u001b[0m\n\u001b[1;32m      2\u001b[0m     \u001b[0mclf\u001b[0m \u001b[0;34m=\u001b[0m \u001b[0mSVC\u001b[0m\u001b[0;34m(\u001b[0m\u001b[0mgamma\u001b[0m\u001b[0;34m=\u001b[0m\u001b[0mgamma\u001b[0m\u001b[0;34m)\u001b[0m\u001b[0;34m\u001b[0m\u001b[0m\n\u001b[1;32m      3\u001b[0m     \u001b[0mkfold\u001b[0m \u001b[0;34m=\u001b[0m \u001b[0mStratifiedKFold\u001b[0m\u001b[0;34m(\u001b[0m\u001b[0mn_splits\u001b[0m\u001b[0;34m=\u001b[0m\u001b[0;36m4\u001b[0m\u001b[0;34m,\u001b[0m \u001b[0mshuffle\u001b[0m\u001b[0;34m=\u001b[0m\u001b[0;32mTrue\u001b[0m\u001b[0;34m)\u001b[0m\u001b[0;34m\u001b[0m\u001b[0m\n\u001b[0;32m----> 4\u001b[0;31m     \u001b[0mresults\u001b[0m \u001b[0;34m=\u001b[0m \u001b[0mcross_val_score\u001b[0m\u001b[0;34m(\u001b[0m\u001b[0mclf\u001b[0m\u001b[0;34m,\u001b[0m \u001b[0mX\u001b[0m\u001b[0;34m,\u001b[0m \u001b[0my\u001b[0m\u001b[0;34m,\u001b[0m \u001b[0mcv\u001b[0m\u001b[0;34m=\u001b[0m\u001b[0mkfold\u001b[0m\u001b[0;34m,\u001b[0m \u001b[0mn_jobs\u001b[0m\u001b[0;34m=\u001b[0m\u001b[0;34m-\u001b[0m\u001b[0;36m1\u001b[0m\u001b[0;34m)\u001b[0m\u001b[0;34m\u001b[0m\u001b[0m\n\u001b[0m\u001b[1;32m      5\u001b[0m     \u001b[0mprint\u001b[0m\u001b[0;34m(\u001b[0m\u001b[0;34m'gamma of {} gives error of {}'\u001b[0m\u001b[0;34m.\u001b[0m\u001b[0mformat\u001b[0m\u001b[0;34m(\u001b[0m\u001b[0mgamma\u001b[0m\u001b[0;34m,\u001b[0m \u001b[0mresults\u001b[0m\u001b[0;34m.\u001b[0m\u001b[0mmean\u001b[0m\u001b[0;34m(\u001b[0m\u001b[0;34m)\u001b[0m\u001b[0;34m)\u001b[0m\u001b[0;34m)\u001b[0m\u001b[0;34m\u001b[0m\u001b[0m\n",
      "\u001b[0;32m~/miniconda3/lib/python3.6/site-packages/sklearn/model_selection/_validation.py\u001b[0m in \u001b[0;36mcross_val_score\u001b[0;34m(estimator, X, y, groups, scoring, cv, n_jobs, verbose, fit_params, pre_dispatch)\u001b[0m\n\u001b[1;32m    340\u001b[0m                                 \u001b[0mn_jobs\u001b[0m\u001b[0;34m=\u001b[0m\u001b[0mn_jobs\u001b[0m\u001b[0;34m,\u001b[0m \u001b[0mverbose\u001b[0m\u001b[0;34m=\u001b[0m\u001b[0mverbose\u001b[0m\u001b[0;34m,\u001b[0m\u001b[0;34m\u001b[0m\u001b[0m\n\u001b[1;32m    341\u001b[0m                                 \u001b[0mfit_params\u001b[0m\u001b[0;34m=\u001b[0m\u001b[0mfit_params\u001b[0m\u001b[0;34m,\u001b[0m\u001b[0;34m\u001b[0m\u001b[0m\n\u001b[0;32m--> 342\u001b[0;31m                                 pre_dispatch=pre_dispatch)\n\u001b[0m\u001b[1;32m    343\u001b[0m     \u001b[0;32mreturn\u001b[0m \u001b[0mcv_results\u001b[0m\u001b[0;34m[\u001b[0m\u001b[0;34m'test_score'\u001b[0m\u001b[0;34m]\u001b[0m\u001b[0;34m\u001b[0m\u001b[0m\n\u001b[1;32m    344\u001b[0m \u001b[0;34m\u001b[0m\u001b[0m\n",
      "\u001b[0;32m~/miniconda3/lib/python3.6/site-packages/sklearn/model_selection/_validation.py\u001b[0m in \u001b[0;36mcross_validate\u001b[0;34m(estimator, X, y, groups, scoring, cv, n_jobs, verbose, fit_params, pre_dispatch, return_train_score)\u001b[0m\n\u001b[1;32m    204\u001b[0m             \u001b[0mfit_params\u001b[0m\u001b[0;34m,\u001b[0m \u001b[0mreturn_train_score\u001b[0m\u001b[0;34m=\u001b[0m\u001b[0mreturn_train_score\u001b[0m\u001b[0;34m,\u001b[0m\u001b[0;34m\u001b[0m\u001b[0m\n\u001b[1;32m    205\u001b[0m             return_times=True)\n\u001b[0;32m--> 206\u001b[0;31m         for train, test in cv.split(X, y, groups))\n\u001b[0m\u001b[1;32m    207\u001b[0m \u001b[0;34m\u001b[0m\u001b[0m\n\u001b[1;32m    208\u001b[0m     \u001b[0;32mif\u001b[0m \u001b[0mreturn_train_score\u001b[0m\u001b[0;34m:\u001b[0m\u001b[0;34m\u001b[0m\u001b[0m\n",
      "\u001b[0;32m~/miniconda3/lib/python3.6/site-packages/sklearn/externals/joblib/parallel.py\u001b[0m in \u001b[0;36m__call__\u001b[0;34m(self, iterable)\u001b[0m\n\u001b[1;32m    787\u001b[0m                 \u001b[0;31m# consumption.\u001b[0m\u001b[0;34m\u001b[0m\u001b[0;34m\u001b[0m\u001b[0m\n\u001b[1;32m    788\u001b[0m                 \u001b[0mself\u001b[0m\u001b[0;34m.\u001b[0m\u001b[0m_iterating\u001b[0m \u001b[0;34m=\u001b[0m \u001b[0;32mFalse\u001b[0m\u001b[0;34m\u001b[0m\u001b[0m\n\u001b[0;32m--> 789\u001b[0;31m             \u001b[0mself\u001b[0m\u001b[0;34m.\u001b[0m\u001b[0mretrieve\u001b[0m\u001b[0;34m(\u001b[0m\u001b[0;34m)\u001b[0m\u001b[0;34m\u001b[0m\u001b[0m\n\u001b[0m\u001b[1;32m    790\u001b[0m             \u001b[0;31m# Make sure that we get a last message telling us we are done\u001b[0m\u001b[0;34m\u001b[0m\u001b[0;34m\u001b[0m\u001b[0m\n\u001b[1;32m    791\u001b[0m             \u001b[0melapsed_time\u001b[0m \u001b[0;34m=\u001b[0m \u001b[0mtime\u001b[0m\u001b[0;34m.\u001b[0m\u001b[0mtime\u001b[0m\u001b[0;34m(\u001b[0m\u001b[0;34m)\u001b[0m \u001b[0;34m-\u001b[0m \u001b[0mself\u001b[0m\u001b[0;34m.\u001b[0m\u001b[0m_start_time\u001b[0m\u001b[0;34m\u001b[0m\u001b[0m\n",
      "\u001b[0;32m~/miniconda3/lib/python3.6/site-packages/sklearn/externals/joblib/parallel.py\u001b[0m in \u001b[0;36mretrieve\u001b[0;34m(self)\u001b[0m\n\u001b[1;32m    697\u001b[0m             \u001b[0;32mtry\u001b[0m\u001b[0;34m:\u001b[0m\u001b[0;34m\u001b[0m\u001b[0m\n\u001b[1;32m    698\u001b[0m                 \u001b[0;32mif\u001b[0m \u001b[0mgetattr\u001b[0m\u001b[0;34m(\u001b[0m\u001b[0mself\u001b[0m\u001b[0;34m.\u001b[0m\u001b[0m_backend\u001b[0m\u001b[0;34m,\u001b[0m \u001b[0;34m'supports_timeout'\u001b[0m\u001b[0;34m,\u001b[0m \u001b[0;32mFalse\u001b[0m\u001b[0;34m)\u001b[0m\u001b[0;34m:\u001b[0m\u001b[0;34m\u001b[0m\u001b[0m\n\u001b[0;32m--> 699\u001b[0;31m                     \u001b[0mself\u001b[0m\u001b[0;34m.\u001b[0m\u001b[0m_output\u001b[0m\u001b[0;34m.\u001b[0m\u001b[0mextend\u001b[0m\u001b[0;34m(\u001b[0m\u001b[0mjob\u001b[0m\u001b[0;34m.\u001b[0m\u001b[0mget\u001b[0m\u001b[0;34m(\u001b[0m\u001b[0mtimeout\u001b[0m\u001b[0;34m=\u001b[0m\u001b[0mself\u001b[0m\u001b[0;34m.\u001b[0m\u001b[0mtimeout\u001b[0m\u001b[0;34m)\u001b[0m\u001b[0;34m)\u001b[0m\u001b[0;34m\u001b[0m\u001b[0m\n\u001b[0m\u001b[1;32m    700\u001b[0m                 \u001b[0;32melse\u001b[0m\u001b[0;34m:\u001b[0m\u001b[0;34m\u001b[0m\u001b[0m\n\u001b[1;32m    701\u001b[0m                     \u001b[0mself\u001b[0m\u001b[0;34m.\u001b[0m\u001b[0m_output\u001b[0m\u001b[0;34m.\u001b[0m\u001b[0mextend\u001b[0m\u001b[0;34m(\u001b[0m\u001b[0mjob\u001b[0m\u001b[0;34m.\u001b[0m\u001b[0mget\u001b[0m\u001b[0;34m(\u001b[0m\u001b[0;34m)\u001b[0m\u001b[0;34m)\u001b[0m\u001b[0;34m\u001b[0m\u001b[0m\n",
      "\u001b[0;32m~/miniconda3/lib/python3.6/multiprocessing/pool.py\u001b[0m in \u001b[0;36mget\u001b[0;34m(self, timeout)\u001b[0m\n\u001b[1;32m    600\u001b[0m \u001b[0;34m\u001b[0m\u001b[0m\n\u001b[1;32m    601\u001b[0m     \u001b[0;32mdef\u001b[0m \u001b[0mget\u001b[0m\u001b[0;34m(\u001b[0m\u001b[0mself\u001b[0m\u001b[0;34m,\u001b[0m \u001b[0mtimeout\u001b[0m\u001b[0;34m=\u001b[0m\u001b[0;32mNone\u001b[0m\u001b[0;34m)\u001b[0m\u001b[0;34m:\u001b[0m\u001b[0;34m\u001b[0m\u001b[0m\n\u001b[0;32m--> 602\u001b[0;31m         \u001b[0mself\u001b[0m\u001b[0;34m.\u001b[0m\u001b[0mwait\u001b[0m\u001b[0;34m(\u001b[0m\u001b[0mtimeout\u001b[0m\u001b[0;34m)\u001b[0m\u001b[0;34m\u001b[0m\u001b[0m\n\u001b[0m\u001b[1;32m    603\u001b[0m         \u001b[0;32mif\u001b[0m \u001b[0;32mnot\u001b[0m \u001b[0mself\u001b[0m\u001b[0;34m.\u001b[0m\u001b[0mready\u001b[0m\u001b[0;34m(\u001b[0m\u001b[0;34m)\u001b[0m\u001b[0;34m:\u001b[0m\u001b[0;34m\u001b[0m\u001b[0m\n\u001b[1;32m    604\u001b[0m             \u001b[0;32mraise\u001b[0m \u001b[0mTimeoutError\u001b[0m\u001b[0;34m\u001b[0m\u001b[0m\n",
      "\u001b[0;32m~/miniconda3/lib/python3.6/multiprocessing/pool.py\u001b[0m in \u001b[0;36mwait\u001b[0;34m(self, timeout)\u001b[0m\n\u001b[1;32m    597\u001b[0m \u001b[0;34m\u001b[0m\u001b[0m\n\u001b[1;32m    598\u001b[0m     \u001b[0;32mdef\u001b[0m \u001b[0mwait\u001b[0m\u001b[0;34m(\u001b[0m\u001b[0mself\u001b[0m\u001b[0;34m,\u001b[0m \u001b[0mtimeout\u001b[0m\u001b[0;34m=\u001b[0m\u001b[0;32mNone\u001b[0m\u001b[0;34m)\u001b[0m\u001b[0;34m:\u001b[0m\u001b[0;34m\u001b[0m\u001b[0m\n\u001b[0;32m--> 599\u001b[0;31m         \u001b[0mself\u001b[0m\u001b[0;34m.\u001b[0m\u001b[0m_event\u001b[0m\u001b[0;34m.\u001b[0m\u001b[0mwait\u001b[0m\u001b[0;34m(\u001b[0m\u001b[0mtimeout\u001b[0m\u001b[0;34m)\u001b[0m\u001b[0;34m\u001b[0m\u001b[0m\n\u001b[0m\u001b[1;32m    600\u001b[0m \u001b[0;34m\u001b[0m\u001b[0m\n\u001b[1;32m    601\u001b[0m     \u001b[0;32mdef\u001b[0m \u001b[0mget\u001b[0m\u001b[0;34m(\u001b[0m\u001b[0mself\u001b[0m\u001b[0;34m,\u001b[0m \u001b[0mtimeout\u001b[0m\u001b[0;34m=\u001b[0m\u001b[0;32mNone\u001b[0m\u001b[0;34m)\u001b[0m\u001b[0;34m:\u001b[0m\u001b[0;34m\u001b[0m\u001b[0m\n",
      "\u001b[0;32m~/miniconda3/lib/python3.6/threading.py\u001b[0m in \u001b[0;36mwait\u001b[0;34m(self, timeout)\u001b[0m\n\u001b[1;32m    549\u001b[0m             \u001b[0msignaled\u001b[0m \u001b[0;34m=\u001b[0m \u001b[0mself\u001b[0m\u001b[0;34m.\u001b[0m\u001b[0m_flag\u001b[0m\u001b[0;34m\u001b[0m\u001b[0m\n\u001b[1;32m    550\u001b[0m             \u001b[0;32mif\u001b[0m \u001b[0;32mnot\u001b[0m \u001b[0msignaled\u001b[0m\u001b[0;34m:\u001b[0m\u001b[0;34m\u001b[0m\u001b[0m\n\u001b[0;32m--> 551\u001b[0;31m                 \u001b[0msignaled\u001b[0m \u001b[0;34m=\u001b[0m \u001b[0mself\u001b[0m\u001b[0;34m.\u001b[0m\u001b[0m_cond\u001b[0m\u001b[0;34m.\u001b[0m\u001b[0mwait\u001b[0m\u001b[0;34m(\u001b[0m\u001b[0mtimeout\u001b[0m\u001b[0;34m)\u001b[0m\u001b[0;34m\u001b[0m\u001b[0m\n\u001b[0m\u001b[1;32m    552\u001b[0m             \u001b[0;32mreturn\u001b[0m \u001b[0msignaled\u001b[0m\u001b[0;34m\u001b[0m\u001b[0m\n\u001b[1;32m    553\u001b[0m \u001b[0;34m\u001b[0m\u001b[0m\n",
      "\u001b[0;32m~/miniconda3/lib/python3.6/threading.py\u001b[0m in \u001b[0;36mwait\u001b[0;34m(self, timeout)\u001b[0m\n\u001b[1;32m    293\u001b[0m         \u001b[0;32mtry\u001b[0m\u001b[0;34m:\u001b[0m    \u001b[0;31m# restore state no matter what (e.g., KeyboardInterrupt)\u001b[0m\u001b[0;34m\u001b[0m\u001b[0m\n\u001b[1;32m    294\u001b[0m             \u001b[0;32mif\u001b[0m \u001b[0mtimeout\u001b[0m \u001b[0;32mis\u001b[0m \u001b[0;32mNone\u001b[0m\u001b[0;34m:\u001b[0m\u001b[0;34m\u001b[0m\u001b[0m\n\u001b[0;32m--> 295\u001b[0;31m                 \u001b[0mwaiter\u001b[0m\u001b[0;34m.\u001b[0m\u001b[0macquire\u001b[0m\u001b[0;34m(\u001b[0m\u001b[0;34m)\u001b[0m\u001b[0;34m\u001b[0m\u001b[0m\n\u001b[0m\u001b[1;32m    296\u001b[0m                 \u001b[0mgotit\u001b[0m \u001b[0;34m=\u001b[0m \u001b[0;32mTrue\u001b[0m\u001b[0;34m\u001b[0m\u001b[0m\n\u001b[1;32m    297\u001b[0m             \u001b[0;32melse\u001b[0m\u001b[0;34m:\u001b[0m\u001b[0;34m\u001b[0m\u001b[0m\n",
      "\u001b[0;31mKeyboardInterrupt\u001b[0m: "
     ]
    }
   ],
   "source": [
    "for gamma in np.array([20, 50, 100])/len(X[0]):\n",
    "    clf = SVC(gamma=gamma)\n",
    "    kfold = StratifiedKFold(n_splits=4, shuffle=True)\n",
    "    results = cross_val_score(clf, X, y, cv=kfold, n_jobs=-1)\n",
    "    print('gamma of {} gives error of {}'.format(gamma, results.mean()))"
   ]
  },
  {
   "cell_type": "code",
   "execution_count": null,
   "metadata": {},
   "outputs": [],
   "source": [
    "for C in [0.5, 1.5]:\n",
    "    for gamma in np.array([15, 30])/len(X[0]):\n",
    "        clf = SVC(C=C, gamma=gamma)\n",
    "        kfold = StratifiedKFold(n_splits=4, shuffle=True)\n",
    "        results = cross_val_score(clf, X, y, cv=kfold, n_jobs=-1)\n",
    "        print('C of {} and gamma of {} gives error of {}'.format(C, gamma, results.mean()))"
   ]
  },
  {
   "cell_type": "code",
   "execution_count": null,
   "metadata": {},
   "outputs": [],
   "source": [
    "for C in [1.5, 2]:\n",
    "    for gamma in np.array([10, 20])/len(X[0]):\n",
    "        clf = SVC(C=C, gamma=gamma)\n",
    "        kfold = StratifiedKFold(n_splits=4, shuffle=True)\n",
    "        results = cross_val_score(clf, X, y, cv=kfold, n_jobs=-1)\n",
    "        print('C of {} and gamma of {} gives error of {}'.format(C, gamma, results.mean()))"
   ]
  },
  {
   "cell_type": "code",
   "execution_count": 18,
   "metadata": {},
   "outputs": [
    {
     "data": {
      "text/plain": [
       "SVC(C=1.5, cache_size=200, class_weight=None, coef0=0.0,\n",
       "  decision_function_shape='ovr', degree=3, gamma=0.015, kernel='rbf',\n",
       "  max_iter=-1, probability=False, random_state=None, shrinking=True,\n",
       "  tol=0.001, verbose=False)"
      ]
     },
     "execution_count": 18,
     "metadata": {},
     "output_type": "execute_result"
    }
   ],
   "source": [
    "clf = SVC(C=1.5, gamma=0.015)\n",
    "clf.fit(X, y)"
   ]
  },
  {
   "cell_type": "code",
   "execution_count": 20,
   "metadata": {
    "collapsed": true
   },
   "outputs": [],
   "source": [
    "rbfsvmX = clf"
   ]
  },
  {
   "cell_type": "code",
   "execution_count": 19,
   "metadata": {
    "collapsed": true
   },
   "outputs": [],
   "source": [
    "SVM_pred = clf.predict(Xtest)"
   ]
  },
  {
   "cell_type": "code",
   "execution_count": null,
   "metadata": {
    "collapsed": true
   },
   "outputs": [],
   "source": [
    "def make_pred_df(test_pred):\n",
    "    preds = []\n",
    "    for pred in test_pred:\n",
    "        preds.append(int(pred))\n",
    "    out_df = pd.DataFrame({'Prediction':preds})\n",
    "    out_df.index += 1\n",
    "    return out_df"
   ]
  },
  {
   "cell_type": "code",
   "execution_count": null,
   "metadata": {
    "collapsed": true
   },
   "outputs": [],
   "source": [
    "out_df = make_pred_df(SVM_pred)\n",
    "out_df.to_csv('RBF_SVM_X1.txt', index_label='Id')"
   ]
  },
  {
   "cell_type": "markdown",
   "metadata": {},
   "source": [
    "### SVD only"
   ]
  },
  {
   "cell_type": "code",
   "execution_count": null,
   "metadata": {},
   "outputs": [],
   "source": [
    "for C in [0.1, 1, 10]:\n",
    "    for gamma in np.array([0.1, 1, 10])/len(sv_tfidX[0]):\n",
    "        clf = SVC(C=C, gamma=gamma)\n",
    "        kfold = StratifiedKFold(n_splits=4, shuffle=True)\n",
    "        results = cross_val_score(clf, sv_tfidX, y, cv=kfold, n_jobs=-1)\n",
    "        print('C of {} and gamma of {} gives error of {}'.format(C, gamma, results.mean()))"
   ]
  },
  {
   "cell_type": "code",
   "execution_count": null,
   "metadata": {},
   "outputs": [],
   "source": [
    "for C in [10, 20]:\n",
    "    for gamma in np.array([1, 5, 20])/len(sv_tfidX[0]):\n",
    "        clf = SVC(C=C, gamma=gamma)\n",
    "        kfold = StratifiedKFold(n_splits=4, shuffle=True)\n",
    "        results = cross_val_score(clf, sv_tfidX, y, cv=kfold, n_jobs=-1)\n",
    "        print('C of {} and gamma of {} gives error of {}'.format(C, gamma, results.mean()))"
   ]
  },
  {
   "cell_type": "code",
   "execution_count": null,
   "metadata": {},
   "outputs": [],
   "source": [
    "for C in [30, 50]:\n",
    "    for gamma in np.array([20, 35, 50])/len(sv_tfidX[0]):\n",
    "        clf = SVC(C=C, gamma=gamma)\n",
    "        kfold = StratifiedKFold(n_splits=4, shuffle=True)\n",
    "        results = cross_val_score(clf, sv_tfidX, y, cv=kfold, n_jobs=-1)\n",
    "        print('C of {} and gamma of {} gives error of {}'.format(C, gamma, results.mean()))"
   ]
  },
  {
   "cell_type": "code",
   "execution_count": 21,
   "metadata": {},
   "outputs": [
    {
     "data": {
      "text/plain": [
       "SVC(C=50, cache_size=200, class_weight=None, coef0=0.0,\n",
       "  decision_function_shape='ovr', degree=3, gamma=0.2, kernel='rbf',\n",
       "  max_iter=-1, probability=False, random_state=None, shrinking=True,\n",
       "  tol=0.001, verbose=False)"
      ]
     },
     "execution_count": 21,
     "metadata": {},
     "output_type": "execute_result"
    }
   ],
   "source": [
    "svd_clf = SVC(C=50, gamma=0.2)\n",
    "svd_clf.fit(sv_tfidX, y)"
   ]
  },
  {
   "cell_type": "markdown",
   "metadata": {},
   "source": [
    "### Ensemble Methods"
   ]
  },
  {
   "cell_type": "code",
   "execution_count": null,
   "metadata": {
    "collapsed": true
   },
   "outputs": [],
   "source": [
    "sv_pred = svd_clf.predict(sv_tfidXtest)"
   ]
  },
  {
   "cell_type": "code",
   "execution_count": null,
   "metadata": {},
   "outputs": [],
   "source": [
    "np.mean(sv_pred == SVM_pred)"
   ]
  },
  {
   "cell_type": "code",
   "execution_count": null,
   "metadata": {},
   "outputs": [],
   "source": [
    "np.mean(SVM_pred == xglin_pred)"
   ]
  },
  {
   "cell_type": "code",
   "execution_count": null,
   "metadata": {
    "collapsed": true
   },
   "outputs": [],
   "source": [
    "xgtree_pred = xg_tree.predict(TfidXtest)\n",
    "mn_bayes_pred = mn_bayes.predict(TfidXtest)"
   ]
  },
  {
   "cell_type": "code",
   "execution_count": null,
   "metadata": {
    "collapsed": true
   },
   "outputs": [],
   "source": [
    "preds = [SVM_pred, sv_pred, nn_pred, xglin_pred, mn_bayes_pred, xgtree_pred]\n",
    "corr_mat = []\n",
    "for i in range(0, len(preds)):\n",
    "    tmp = []\n",
    "    for j in range(0, len(preds)):\n",
    "        tmp.append(np.mean(preds[i] == preds[j]))\n",
    "    corr_mat.append(np.array(tmp))\n",
    "corr_mat = np.array(corr_mat)"
   ]
  },
  {
   "cell_type": "code",
   "execution_count": null,
   "metadata": {},
   "outputs": [],
   "source": [
    "plt.imshow(corr_mat, vmin=0.8, vmax=1)\n",
    "plt.colorbar()"
   ]
  },
  {
   "cell_type": "code",
   "execution_count": null,
   "metadata": {
    "collapsed": true
   },
   "outputs": [],
   "source": [
    "med_ens = np.median(preds, axis=0)"
   ]
  },
  {
   "cell_type": "code",
   "execution_count": null,
   "metadata": {
    "collapsed": true
   },
   "outputs": [],
   "source": [
    "out_df = make_pred_df(med_ens)\n",
    "out_df.to_csv('6method_ens.txt', index_label='Id')"
   ]
  },
  {
   "cell_type": "code",
   "execution_count": null,
   "metadata": {
    "collapsed": true
   },
   "outputs": [],
   "source": []
  },
  {
   "cell_type": "code",
   "execution_count": null,
   "metadata": {
    "collapsed": true
   },
   "outputs": [],
   "source": []
  },
  {
   "cell_type": "code",
   "execution_count": null,
   "metadata": {
    "collapsed": true
   },
   "outputs": [],
   "source": [
    "for i in range(0, 20):\n",
    "    "
   ]
  },
  {
   "cell_type": "code",
   "execution_count": null,
   "metadata": {
    "collapsed": true
   },
   "outputs": [],
   "source": []
  },
  {
   "cell_type": "code",
   "execution_count": null,
   "metadata": {
    "collapsed": true
   },
   "outputs": [],
   "source": []
  },
  {
   "cell_type": "markdown",
   "metadata": {},
   "source": [
    "### TFID Normalized"
   ]
  },
  {
   "cell_type": "code",
   "execution_count": null,
   "metadata": {},
   "outputs": [],
   "source": [
    "for C in [0.01, 0.1, 1, 10, 100]:\n",
    "    for gamma in np.array([50, 100, 500, 1000])/len(TfidX_sum[0]):\n",
    "        clf = SVC(C=C, gamma=gamma)\n",
    "        kfold = StratifiedKFold(n_splits=4, shuffle=True)\n",
    "        results = cross_val_score(clf, TfidX_sum, y, cv=kfold, n_jobs=-1)\n",
    "        print('C of {} and gamma of {} gives error of {}'.format(C, gamma, results.mean()))"
   ]
  },
  {
   "cell_type": "code",
   "execution_count": null,
   "metadata": {},
   "outputs": [],
   "source": [
    "for C in [5, 10, 20]:\n",
    "    for gamma in np.array([1, 10])/len(TfidX_sum[0]):\n",
    "        clf = SVC(C=C, gamma=gamma)\n",
    "        kfold = StratifiedKFold(n_splits=4, shuffle=True)\n",
    "        results = cross_val_score(clf, TfidX_sum, y, cv=kfold, n_jobs=-1)\n",
    "        print('C of {} and gamma of {} gives error of {}'.format(C, gamma, results.mean()))"
   ]
  },
  {
   "cell_type": "code",
   "execution_count": null,
   "metadata": {},
   "outputs": [],
   "source": [
    "for C in [30]:\n",
    "    for gamma in np.array([10])/len(TfidX_sum[0]):\n",
    "        clf = SVC(C=C, gamma=gamma)\n",
    "        kfold = StratifiedKFold(n_splits=4, shuffle=True)\n",
    "        results = cross_val_score(clf, TfidX_sum, y, cv=kfold, n_jobs=-1)\n",
    "        print('C of {} and gamma of {} gives error of {}'.format(C, gamma, results.mean()))"
   ]
  },
  {
   "cell_type": "code",
   "execution_count": null,
   "metadata": {},
   "outputs": [],
   "source": [
    "for C in [25]:\n",
    "    for gamma in np.array([8, 15, 30])/len(TfidX_sum[0]):\n",
    "        clf = SVC(C=C, gamma=gamma)\n",
    "        kfold = StratifiedKFold(n_splits=4, shuffle=True)\n",
    "        results = cross_val_score(clf, TfidX_sum, y, cv=kfold, n_jobs=-1)\n",
    "        print('C of {} and gamma of {} gives error of {}'.format(C, gamma, results.mean()))"
   ]
  },
  {
   "cell_type": "markdown",
   "metadata": {},
   "source": [
    "### Xcomb"
   ]
  },
  {
   "cell_type": "code",
   "execution_count": null,
   "metadata": {},
   "outputs": [],
   "source": [
    "for C in [0.01, 0.1, 1, 10, 100]:\n",
    "    for gamma in np.array([1, 10, 100, 500, 1000])/len(Xcomb[0]):\n",
    "        clf = SVC(C=C, gamma=gamma)\n",
    "        kfold = StratifiedKFold(n_splits=4, shuffle=True)\n",
    "        results = cross_val_score(clf, Xcomb, y, cv=kfold, n_jobs=-1)\n",
    "        print('C of {} and gamma of {} gives error of {}'.format(C, gamma, results.mean()))"
   ]
  },
  {
   "cell_type": "code",
   "execution_count": null,
   "metadata": {},
   "outputs": [],
   "source": [
    "for C in [5, 15, 30]:\n",
    "    for gamma in np.array([10, 100])/len(Xcomb[0]):\n",
    "        clf = SVC(C=C, gamma=gamma)\n",
    "        kfold = StratifiedKFold(n_splits=4, shuffle=True)\n",
    "        results = cross_val_score(clf, Xcomb, y, cv=kfold, n_jobs=-1)\n",
    "        print('C of {} and gamma of {} gives error of {}'.format(C, gamma, results.mean()))"
   ]
  },
  {
   "cell_type": "code",
   "execution_count": null,
   "metadata": {},
   "outputs": [],
   "source": [
    "for C in [20, 50]:\n",
    "    for gamma in np.array([5, 10])/len(Xcomb[0]):\n",
    "        clf = SVC(C=C, gamma=gamma)\n",
    "        kfold = StratifiedKFold(n_splits=4, shuffle=True)\n",
    "        results = cross_val_score(clf, Xcomb, y, cv=kfold, n_jobs=-1)\n",
    "        print('C of {} and gamma of {} gives error of {}'.format(C, gamma, results.mean()))"
   ]
  },
  {
   "cell_type": "code",
   "execution_count": null,
   "metadata": {},
   "outputs": [],
   "source": [
    "for C in [50, 100]:\n",
    "    for gamma in np.array([5])/len(Xcomb[0]):\n",
    "        clf = SVC(C=C, gamma=gamma)\n",
    "        kfold = StratifiedKFold(n_splits=4, shuffle=True)\n",
    "        results = cross_val_score(clf, Xcomb, y, cv=kfold, n_jobs=-1)\n",
    "        print('C of {} and gamma of {} gives error of {}'.format(C, gamma, results.mean()))"
   ]
  },
  {
   "cell_type": "code",
   "execution_count": null,
   "metadata": {},
   "outputs": [],
   "source": [
    "for C in [35, 50, 65]:\n",
    "    for gamma in np.array([1])/len(Xcomb[0]):\n",
    "        clf = SVC(C=C, gamma=gamma)\n",
    "        kfold = StratifiedKFold(n_splits=4, shuffle=True)\n",
    "        results = cross_val_score(clf, Xcomb, y, cv=kfold, n_jobs=-1)\n",
    "        print('C of {} and gamma of {} gives error of {}'.format(C, gamma, results.mean()))"
   ]
  },
  {
   "cell_type": "code",
   "execution_count": null,
   "metadata": {},
   "outputs": [],
   "source": [
    "for C in [60, 70, 80]:\n",
    "    for gamma in np.array([0.75, 1, 1.25])/len(Xcomb[0]):\n",
    "        clf = SVC(C=C, gamma=gamma)\n",
    "        kfold = StratifiedKFold(n_splits=4, shuffle=True)\n",
    "        results = cross_val_score(clf, Xcomb, y, cv=kfold, n_jobs=-1)\n",
    "        print('C of {} and gamma of {} gives error of {}'.format(C, gamma, results.mean()))"
   ]
  },
  {
   "cell_type": "code",
   "execution_count": null,
   "metadata": {},
   "outputs": [],
   "source": [
    "for C in [78, 85, 90]:\n",
    "    for gamma in np.array([1.2, 1.3, 1.5])/len(Xcomb[0]):\n",
    "        clf = SVC(C=C, gamma=gamma)\n",
    "        kfold = StratifiedKFold(n_splits=4, shuffle=True)\n",
    "        results = cross_val_score(clf, Xcomb, y, cv=kfold, n_jobs=-1)\n",
    "        print('C of {} and gamma of {} gives error of {}'.format(C, gamma, results.mean()))"
   ]
  },
  {
   "cell_type": "markdown",
   "metadata": {},
   "source": [
    "### Polynomial SVM results"
   ]
  },
  {
   "cell_type": "code",
   "execution_count": null,
   "metadata": {
    "collapsed": true
   },
   "outputs": [],
   "source": [
    "pn_svm = pd.read_csv('X_scan1.csv')"
   ]
  },
  {
   "cell_type": "code",
   "execution_count": null,
   "metadata": {},
   "outputs": [],
   "source": [
    "pn_svm[pn_svm['mean_test_score'] > 0.845]"
   ]
  },
  {
   "cell_type": "code",
   "execution_count": null,
   "metadata": {
    "collapsed": true
   },
   "outputs": [],
   "source": [
    "pn_svm2 = pd.read_csv('X_scan2.csv')"
   ]
  },
  {
   "cell_type": "code",
   "execution_count": null,
   "metadata": {},
   "outputs": [],
   "source": [
    "pn_svm2[pn_svm2['mean_test_score'] > 0.845]"
   ]
  },
  {
   "cell_type": "markdown",
   "metadata": {},
   "source": [
    "### Linear-SVM"
   ]
  },
  {
   "cell_type": "code",
   "execution_count": null,
   "metadata": {
    "collapsed": true
   },
   "outputs": [],
   "source": [
    "def linear_svmfit(X, y):\n",
    "    svc_params = {'C': np.logspace(-4, 4, 7)}\n",
    "    svc = LinearSVC(dual=False)\n",
    "    search_clf = GridSearchCV(svc, svc_params)\n",
    "    search_clf.fit(X, y)\n",
    "    clf = search_clf.best_estimator_\n",
    "    kfold = StratifiedKFold(n_splits=5, shuffle=True)\n",
    "    scores = cross_val_score(clf, X, y, cv=kfold)\n",
    "    return np.mean(scores)"
   ]
  },
  {
   "cell_type": "code",
   "execution_count": null,
   "metadata": {
    "collapsed": true
   },
   "outputs": [],
   "source": [
    "linear_svmfit(binX, y)"
   ]
  },
  {
   "cell_type": "code",
   "execution_count": null,
   "metadata": {
    "collapsed": true
   },
   "outputs": [],
   "source": [
    "linear_svmfit(TfidX, y)"
   ]
  },
  {
   "cell_type": "markdown",
   "metadata": {},
   "source": [
    "### Neural-net"
   ]
  },
  {
   "cell_type": "code",
   "execution_count": 22,
   "metadata": {},
   "outputs": [
    {
     "name": "stderr",
     "output_type": "stream",
     "text": [
      "Using TensorFlow backend.\n"
     ]
    }
   ],
   "source": [
    "from keras.models import Sequential\n",
    "from keras.layers.core import Dense, Activation, Flatten, Dropout\n",
    "from keras.wrappers.scikit_learn import KerasClassifier"
   ]
  },
  {
   "cell_type": "code",
   "execution_count": 23,
   "metadata": {
    "collapsed": true
   },
   "outputs": [],
   "source": [
    "def create_baseline(input_N):\n",
    "    def build_fn():\n",
    "        do = 0.05\n",
    "        model = Sequential()\n",
    "        model.add(Dense(100, input_dim=input_N, kernel_initializer='normal', activation='relu'))\n",
    "        model.add(Dropout(do))\n",
    "        model.add(Dense(30, activation='relu'))\n",
    "        model.add(Dropout(do))\n",
    "        model.add(Dense(30, activation='relu'))\n",
    "        model.add(Dropout(do))\n",
    "        model.add(Dense(30, activation='relu'))\n",
    "        model.add(Dropout(do))\n",
    "\n",
    "\n",
    "        model.add(Dense(1, kernel_initializer='normal', activation='sigmoid'))\n",
    "        # Compile model\n",
    "        model.compile(loss='binary_crossentropy', optimizer='rmsprop', metrics=['accuracy'])\n",
    "        return model\n",
    "    return build_fn"
   ]
  },
  {
   "cell_type": "code",
   "execution_count": 24,
   "metadata": {
    "collapsed": true
   },
   "outputs": [],
   "source": [
    "def test_NN(X, y):\n",
    "    estimator = KerasClassifier(build_fn=create_baseline(X.shape[1]), epochs=10, batch_size=20, verbose=0)\n",
    "    kfold = StratifiedKFold(n_splits=4, shuffle=True)\n",
    "    results = cross_val_score(estimator, X, y, cv=kfold)\n",
    "    return results.mean()"
   ]
  },
  {
   "cell_type": "code",
   "execution_count": 25,
   "metadata": {},
   "outputs": [
    {
     "data": {
      "text/plain": [
       "0.84939986667723533"
      ]
     },
     "execution_count": 25,
     "metadata": {},
     "output_type": "execute_result"
    }
   ],
   "source": [
    "test_NN(Xcomb,y) #100,30,30 0.05"
   ]
  },
  {
   "cell_type": "code",
   "execution_count": 26,
   "metadata": {},
   "outputs": [
    {
     "data": {
      "text/plain": [
       "0.8462994988061775"
      ]
     },
     "execution_count": 26,
     "metadata": {},
     "output_type": "execute_result"
    }
   ],
   "source": [
    "test_NN(Xcomb,y) #100,30,30,30 0.05"
   ]
  },
  {
   "cell_type": "code",
   "execution_count": 27,
   "metadata": {},
   "outputs": [
    {
     "name": "stdout",
     "output_type": "stream",
     "text": [
      "Epoch 1/30\n",
      "20000/20000 [==============================] - 3s 146us/step - loss: 0.5111 - acc: 0.7459\n",
      "Epoch 2/30\n",
      "20000/20000 [==============================] - 2s 122us/step - loss: 0.3596 - acc: 0.8442\n",
      "Epoch 3/30\n",
      "20000/20000 [==============================] - 2s 118us/step - loss: 0.3334 - acc: 0.8577\n",
      "Epoch 4/30\n",
      "20000/20000 [==============================] - 2s 106us/step - loss: 0.3225 - acc: 0.8618\n",
      "Epoch 5/30\n",
      "20000/20000 [==============================] - 2s 113us/step - loss: 0.3148 - acc: 0.8651\n",
      "Epoch 6/30\n",
      "20000/20000 [==============================] - 2s 115us/step - loss: 0.3093 - acc: 0.8661\n",
      "Epoch 7/30\n",
      "20000/20000 [==============================] - 2s 111us/step - loss: 0.3032 - acc: 0.8709\n",
      "Epoch 8/30\n",
      "20000/20000 [==============================] - 2s 117us/step - loss: 0.2992 - acc: 0.8729\n",
      "Epoch 9/30\n",
      "20000/20000 [==============================] - 2s 118us/step - loss: 0.2942 - acc: 0.8752\n",
      "Epoch 10/30\n",
      "20000/20000 [==============================] - 2s 113us/step - loss: 0.2920 - acc: 0.8767\n",
      "Epoch 11/30\n",
      "20000/20000 [==============================] - 2s 118us/step - loss: 0.2842 - acc: 0.8810\n",
      "Epoch 12/30\n",
      "20000/20000 [==============================] - 2s 117us/step - loss: 0.2801 - acc: 0.8829\n",
      "Epoch 13/30\n",
      "20000/20000 [==============================] - 2s 113us/step - loss: 0.2764 - acc: 0.8851\n",
      "Epoch 14/30\n",
      "20000/20000 [==============================] - 2s 118us/step - loss: 0.2710 - acc: 0.8886\n",
      "Epoch 15/30\n",
      "20000/20000 [==============================] - 2s 119us/step - loss: 0.2671 - acc: 0.8899\n",
      "Epoch 16/30\n",
      "20000/20000 [==============================] - 2s 119us/step - loss: 0.2647 - acc: 0.8917\n",
      "Epoch 17/30\n",
      "20000/20000 [==============================] - 2s 120us/step - loss: 0.2574 - acc: 0.8957\n",
      "Epoch 18/30\n",
      "20000/20000 [==============================] - 2s 118us/step - loss: 0.2520 - acc: 0.8981\n",
      "Epoch 19/30\n",
      "20000/20000 [==============================] - 2s 123us/step - loss: 0.2467 - acc: 0.8992\n",
      "Epoch 20/30\n",
      "20000/20000 [==============================] - 2s 120us/step - loss: 0.2421 - acc: 0.9043\n",
      "Epoch 21/30\n",
      "20000/20000 [==============================] - 2s 117us/step - loss: 0.2360 - acc: 0.9071\n",
      "Epoch 22/30\n",
      "20000/20000 [==============================] - 2s 120us/step - loss: 0.2284 - acc: 0.9098\n",
      "Epoch 23/30\n",
      "20000/20000 [==============================] - 2s 118us/step - loss: 0.2228 - acc: 0.9141\n",
      "Epoch 24/30\n",
      "20000/20000 [==============================] - 2s 120us/step - loss: 0.2149 - acc: 0.9176\n",
      "Epoch 25/30\n",
      "20000/20000 [==============================] - 2s 121us/step - loss: 0.2073 - acc: 0.9217\n",
      "Epoch 26/30\n",
      "20000/20000 [==============================] - 2s 123us/step - loss: 0.1999 - acc: 0.9259\n",
      "Epoch 27/30\n",
      "20000/20000 [==============================] - 2s 120us/step - loss: 0.1973 - acc: 0.9247\n",
      "Epoch 28/30\n",
      "20000/20000 [==============================] - 2s 123us/step - loss: 0.1893 - acc: 0.9285\n",
      "Epoch 29/30\n",
      "20000/20000 [==============================] - 2s 120us/step - loss: 0.1839 - acc: 0.9325\n",
      "Epoch 30/30\n",
      "20000/20000 [==============================] - 2s 124us/step - loss: 0.1796 - acc: 0.9317\n"
     ]
    },
    {
     "data": {
      "text/plain": [
       "<keras.callbacks.History at 0x1a67338e48>"
      ]
     },
     "execution_count": 27,
     "metadata": {},
     "output_type": "execute_result"
    }
   ],
   "source": [
    "nn = create_baseline(Xcomb.shape[1])()\n",
    "nn.fit(Xcomb, y, epochs=30)"
   ]
  },
  {
   "cell_type": "code",
   "execution_count": 28,
   "metadata": {
    "collapsed": true
   },
   "outputs": [],
   "source": [
    "nn_predsig = nn.predict(Xcombtest)\n",
    "nn_pred = np.round(nn_predsig)[:,0]"
   ]
  },
  {
   "cell_type": "markdown",
   "metadata": {},
   "source": [
    "### Gradient boosted trees"
   ]
  },
  {
   "cell_type": "code",
   "execution_count": 29,
   "metadata": {},
   "outputs": [
    {
     "data": {
      "text/plain": [
       "0.80930025608401024"
      ]
     },
     "execution_count": 29,
     "metadata": {},
     "output_type": "execute_result"
    }
   ],
   "source": [
    "xg_tree = xgboost.XGBClassifier(max_depth=5, objective='binary:logistic', eta=0.6)\n",
    "kfold = StratifiedKFold(n_splits=4, shuffle=True)\n",
    "scores = cross_val_score(xg_tree, TfidX, y, cv=kfold, n_jobs=-1)\n",
    "scores.mean()"
   ]
  },
  {
   "cell_type": "code",
   "execution_count": 30,
   "metadata": {},
   "outputs": [
    {
     "data": {
      "text/plain": [
       "XGBClassifier(base_score=0.5, booster='gbtree', colsample_bylevel=1,\n",
       "       colsample_bytree=1, eta=0.6, gamma=0, learning_rate=0.1,\n",
       "       max_delta_step=0, max_depth=5, min_child_weight=1, missing=None,\n",
       "       n_estimators=100, n_jobs=1, nthread=None,\n",
       "       objective='binary:logistic', random_state=0, reg_alpha=0,\n",
       "       reg_lambda=1, scale_pos_weight=1, seed=None, silent=True,\n",
       "       subsample=1)"
      ]
     },
     "execution_count": 30,
     "metadata": {},
     "output_type": "execute_result"
    }
   ],
   "source": [
    "xg_tree.fit(TfidX, y)"
   ]
  },
  {
   "cell_type": "markdown",
   "metadata": {},
   "source": [
    "### Gradient boosted linear"
   ]
  },
  {
   "cell_type": "code",
   "execution_count": 31,
   "metadata": {},
   "outputs": [
    {
     "data": {
      "text/plain": [
       "0.84455029219376831"
      ]
     },
     "execution_count": 31,
     "metadata": {},
     "output_type": "execute_result"
    }
   ],
   "source": [
    "xg_model = xgboost.XGBClassifier(booster='gblinear', reg_lambda=0, eval_metric='error')\n",
    "kfold = StratifiedKFold(n_splits=5, shuffle=True)\n",
    "scores = cross_val_score(xg_model, TfidX_sum, y, cv=kfold)\n",
    "scores.mean()"
   ]
  },
  {
   "cell_type": "code",
   "execution_count": 32,
   "metadata": {},
   "outputs": [
    {
     "data": {
      "text/plain": [
       "XGBClassifier(base_score=0.5, booster='gblinear', colsample_bylevel=1,\n",
       "       colsample_bytree=1, eval_metric='error', gamma=0, learning_rate=0.1,\n",
       "       max_delta_step=0, max_depth=3, min_child_weight=1, missing=None,\n",
       "       n_estimators=100, n_jobs=1, nthread=None,\n",
       "       objective='binary:logistic', random_state=0, reg_alpha=0,\n",
       "       reg_lambda=0, scale_pos_weight=1, seed=None, silent=True,\n",
       "       subsample=1)"
      ]
     },
     "execution_count": 32,
     "metadata": {},
     "output_type": "execute_result"
    }
   ],
   "source": [
    "xg_model.fit(TfidX, y)"
   ]
  },
  {
   "cell_type": "code",
   "execution_count": 33,
   "metadata": {
    "collapsed": true
   },
   "outputs": [],
   "source": [
    "xglin_pred = xg_model.predict(TfidXtest)"
   ]
  },
  {
   "cell_type": "code",
   "execution_count": 34,
   "metadata": {
    "collapsed": true
   },
   "outputs": [],
   "source": [
    "xgtree = xgboost.XGBClassifier()\n",
    "xgtree.fit(TfidX, y)\n",
    "kfold = StratifiedKFold(n_splits=10, shuffle=True)\n",
    "scores = cross_val_score(xgtree, TfidX, y, cv=kfold)"
   ]
  },
  {
   "cell_type": "code",
   "execution_count": null,
   "metadata": {
    "collapsed": true
   },
   "outputs": [],
   "source": [
    "scores.mean()"
   ]
  },
  {
   "cell_type": "code",
   "execution_count": null,
   "metadata": {
    "collapsed": true
   },
   "outputs": [],
   "source": [
    "xg_model = xgboost.XGBClassifier(booster='gblinear', reg_lambda=0, 'objective':'binary:logistic')\n",
    "xg_model.fit(TfidX, y)\n",
    "test_pred = xg_model.predict(TfidXtest)"
   ]
  },
  {
   "cell_type": "code",
   "execution_count": null,
   "metadata": {
    "collapsed": true
   },
   "outputs": [],
   "source": [
    "def make_pred_df(test_pred):\n",
    "    preds = []\n",
    "    for pred in test_pred:\n",
    "        preds.append(int(pred))\n",
    "    out_df = pd.DataFrame({'Prediction':preds})\n",
    "    out_df.index += 1\n",
    "    return out_df"
   ]
  },
  {
   "cell_type": "code",
   "execution_count": null,
   "metadata": {
    "collapsed": true
   },
   "outputs": [],
   "source": [
    "out_df = make_pred_df(test_pred)\n",
    "out_df.to_csv('XGlinear_Tfid_01.txt', index_label='Id')"
   ]
  },
  {
   "cell_type": "markdown",
   "metadata": {},
   "source": [
    "### Naive Bayes"
   ]
  },
  {
   "cell_type": "code",
   "execution_count": 35,
   "metadata": {},
   "outputs": [
    {
     "data": {
      "text/plain": [
       "0.82964999154374952"
      ]
     },
     "execution_count": 35,
     "metadata": {},
     "output_type": "execute_result"
    }
   ],
   "source": [
    "mn_bayes = MultinomialNB(alpha=0.5)\n",
    "kfold = StratifiedKFold(n_splits=5, shuffle=True)\n",
    "scores = cross_val_score(mn_bayes, TfidX, y, cv=kfold)\n",
    "scores.mean()"
   ]
  },
  {
   "cell_type": "code",
   "execution_count": 36,
   "metadata": {},
   "outputs": [
    {
     "data": {
      "text/plain": [
       "MultinomialNB(alpha=1.0, class_prior=None, fit_prior=True)"
      ]
     },
     "execution_count": 36,
     "metadata": {},
     "output_type": "execute_result"
    }
   ],
   "source": [
    "mn_bayes = MultinomialNB()\n",
    "mn_bayes.fit(TfidX, y)"
   ]
  },
  {
   "cell_type": "code",
   "execution_count": null,
   "metadata": {
    "collapsed": true
   },
   "outputs": [],
   "source": []
  },
  {
   "cell_type": "markdown",
   "metadata": {},
   "source": [
    "### Restricted boltzmann machine"
   ]
  },
  {
   "cell_type": "code",
   "execution_count": null,
   "metadata": {
    "collapsed": true
   },
   "outputs": [],
   "source": []
  },
  {
   "cell_type": "markdown",
   "metadata": {},
   "source": [
    "### Ensemble models (not worth it?)"
   ]
  },
  {
   "cell_type": "code",
   "execution_count": null,
   "metadata": {
    "collapsed": true
   },
   "outputs": [],
   "source": [
    "X1, X2, y1, y2 = train_test_split(X, y, test_size=0.25)\n",
    "partial_Tfid = text.TfidfTransformer()\n",
    "partial_Tfid.fit(X1, y1)\n",
    "tfX1 = partial_Tfid.transform(X1)\n",
    "tfX2 = partial_Tfid.transform(X2)\n",
    "svd = TruncatedSVD(n_components=100, algorithm='arpack')\n",
    "svX1 = svd.fit_transform(tfX1)\n",
    "svX2 = svd.fit_transform(tfX2)"
   ]
  },
  {
   "cell_type": "code",
   "execution_count": null,
   "metadata": {
    "collapsed": true
   },
   "outputs": [],
   "source": [
    "nn = Sequential()\n",
    "nn.add(Dense(100, input_dim=tfX1.shape[1], kernel_initializer='normal', activation='relu'))\n",
    "nn.add(Dropout(0.2))\n",
    "nn.add(Dense(30, activation='relu'))\n",
    "nn.add(Dropout(0.2))\n",
    "\n",
    "nn.add(Dense(1, kernel_initializer='normal', activation='sigmoid'))\n",
    "# Compile model\n",
    "nn.compile(loss='binary_crossentropy', optimizer='adam', metrics=['accuracy'])\n",
    "nn.fit(tfX1, y1, epochs=10, batch_size=20, verbose=0)"
   ]
  },
  {
   "cell_type": "code",
   "execution_count": null,
   "metadata": {
    "collapsed": true
   },
   "outputs": [],
   "source": [
    "nn.evaluate(tfX2, y2)"
   ]
  },
  {
   "cell_type": "code",
   "execution_count": null,
   "metadata": {
    "collapsed": true
   },
   "outputs": [],
   "source": [
    "nn_notfid = Sequential()\n",
    "nn_notfid.add(Dense(100, input_dim=X1.shape[1], kernel_initializer='normal', activation='relu'))\n",
    "nn_notfid.add(Dropout(0.2))\n",
    "nn_notfid.add(Dense(30, activation='relu'))\n",
    "nn_notfid.add(Dropout(0.2))\n",
    "\n",
    "nn_notfid.add(Dense(1, kernel_initializer='normal', activation='sigmoid'))\n",
    "# Compile model\n",
    "nn_notfid.compile(loss='binary_crossentropy', optimizer='adam', metrics=['accuracy'])\n",
    "nn_notfid.fit(X1, y1, epochs=10, batch_size=20, verbose=0)"
   ]
  },
  {
   "cell_type": "code",
   "execution_count": null,
   "metadata": {
    "collapsed": true
   },
   "outputs": [],
   "source": [
    "nn_notfid.evaluate(X2, y2)"
   ]
  },
  {
   "cell_type": "code",
   "execution_count": null,
   "metadata": {
    "collapsed": true
   },
   "outputs": [],
   "source": [
    "nn_sv = Sequential()\n",
    "nn_sv.add(Dense(60, input_dim=svX1.shape[1], kernel_initializer='normal', activation='relu'))\n",
    "nn_sv.add(Dropout(0.1))\n",
    "\n",
    "nn_sv.add(Dense(1, kernel_initializer='normal', activation='sigmoid'))\n",
    "# Compile model\n",
    "nn_sv.compile(loss='binary_crossentropy', optimizer='adam', metrics=['accuracy'])\n",
    "nn_sv.fit(svX1, y1, epochs=10, batch_size=20, verbose=0)"
   ]
  },
  {
   "cell_type": "code",
   "execution_count": null,
   "metadata": {
    "collapsed": true
   },
   "outputs": [],
   "source": [
    "nn_sv.evaluate(svX2, y2)"
   ]
  },
  {
   "cell_type": "code",
   "execution_count": null,
   "metadata": {
    "collapsed": true
   },
   "outputs": [],
   "source": [
    "xg_model = xgboost.XGBClassifier()\n",
    "xg_model.fit(svX1, y1)"
   ]
  },
  {
   "cell_type": "code",
   "execution_count": null,
   "metadata": {
    "collapsed": true
   },
   "outputs": [],
   "source": [
    "xg_model.score(svX2, y2)"
   ]
  },
  {
   "cell_type": "code",
   "execution_count": null,
   "metadata": {
    "collapsed": true
   },
   "outputs": [],
   "source": []
  },
  {
   "cell_type": "code",
   "execution_count": null,
   "metadata": {
    "collapsed": true
   },
   "outputs": [],
   "source": [
    "nn_pred = np.round(nn.predict(tfX2))[:,0]\n",
    "nn_notfid_pred = np.round(nn_notfid.predict(X2))[:,0]\n",
    "nn_sv_pred = np.round(nn_sv.predict(sv_tfidX))[0]"
   ]
  },
  {
   "cell_type": "code",
   "execution_count": null,
   "metadata": {
    "collapsed": true
   },
   "outputs": [],
   "source": [
    "ens_X = [nn_pred, nn_notfid_pred, nn_sv_pred]\n",
    "ens_X = np.array(ens_X).T"
   ]
  },
  {
   "cell_type": "code",
   "execution_count": null,
   "metadata": {
    "collapsed": true
   },
   "outputs": [],
   "source": [
    "np.mean(y2 == nn_sv_pred)"
   ]
  },
  {
   "cell_type": "code",
   "execution_count": null,
   "metadata": {
    "collapsed": true
   },
   "outputs": [],
   "source": [
    "ens_Xtest = [lr_predtest, nn_predtest, mn_predtest, xglin_predtest, xgtree_predtest, nn_notfid_predtest]\n",
    "ens_Xtest = np.array(ens_Xtest).T"
   ]
  },
  {
   "cell_type": "code",
   "execution_count": null,
   "metadata": {
    "collapsed": true
   },
   "outputs": [],
   "source": [
    "test_pred = xgtree_ens.predict(ens_Xtest)"
   ]
  },
  {
   "cell_type": "code",
   "execution_count": null,
   "metadata": {
    "collapsed": true
   },
   "outputs": [],
   "source": [
    "out_df = make_pred_df(test_pred)\n",
    "out_df.to_csv('Ensemble_01.txt', index_label='Id')"
   ]
  },
  {
   "cell_type": "code",
   "execution_count": null,
   "metadata": {
    "collapsed": true
   },
   "outputs": [],
   "source": []
  }
 ],
 "metadata": {
  "anaconda-cloud": {},
  "kernelspec": {
   "display_name": "Python 3",
   "language": "python",
   "name": "python3"
  },
  "language_info": {
   "codemirror_mode": {
    "name": "ipython",
    "version": 3
   },
   "file_extension": ".py",
   "mimetype": "text/x-python",
   "name": "python",
   "nbconvert_exporter": "python",
   "pygments_lexer": "ipython3",
   "version": "3.6.1"
  }
 },
 "nbformat": 4,
 "nbformat_minor": 2
}
